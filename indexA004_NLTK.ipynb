{
 "cells": [
  {
   "cell_type": "markdown",
   "metadata": {},
   "source": [
    "### Cours : NLTK Tutorial 03: Tokenization | NLTK Tokenization\n",
    "Lien : https://www.youtube.com/watch?v=niKMwO8NIiM&list=PLBSCvBlTOLa_wS8iy84DfyizdSs7ps7L5&index=4\n",
    "\n",
    "Dans ce programme on a recours à 2 autres instructions :\n",
    "- nltk.word_tokenize() : fractionnement par mot / caractères spéciaux d'un texte\n",
    "- sent_tokenize() : fractionnement par phrase d'un texte\n",
    "\n",
    "Date : 22/07/23"
   ]
  },
  {
   "cell_type": "code",
   "execution_count": 1,
   "metadata": {},
   "outputs": [],
   "source": [
    "import nltk"
   ]
  },
  {
   "cell_type": "code",
   "execution_count": 2,
   "metadata": {},
   "outputs": [],
   "source": [
    "text1 = \"Natural Language Toolkit (NLTK) est une bibliothèque logicielle en Python permettant un traitement automatique des langues, développée par Steven Bird et Edward Loper du département d'informatique de l'université de Pennsylvanie.\""
   ]
  },
  {
   "cell_type": "code",
   "execution_count": 3,
   "metadata": {},
   "outputs": [
    {
     "data": {
      "text/plain": [
       "\"Natural Language Toolkit (NLTK) est une bibliothèque logicielle en Python permettant un traitement automatique des langues, développée par Steven Bird et Edward Loper du département d'informatique de l'université de Pennsylvanie.\""
      ]
     },
     "execution_count": 3,
     "metadata": {},
     "output_type": "execute_result"
    }
   ],
   "source": [
    "text1"
   ]
  },
  {
   "cell_type": "code",
   "execution_count": 4,
   "metadata": {},
   "outputs": [
    {
     "data": {
      "text/plain": [
       "['Natural',\n",
       " 'Language',\n",
       " 'Toolkit',\n",
       " '(NLTK)',\n",
       " 'est',\n",
       " 'une',\n",
       " 'bibliothèque',\n",
       " 'logicielle',\n",
       " 'en',\n",
       " 'Python',\n",
       " 'permettant',\n",
       " 'un',\n",
       " 'traitement',\n",
       " 'automatique',\n",
       " 'des',\n",
       " 'langues,',\n",
       " 'développée',\n",
       " 'par',\n",
       " 'Steven',\n",
       " 'Bird',\n",
       " 'et',\n",
       " 'Edward',\n",
       " 'Loper',\n",
       " 'du',\n",
       " 'département',\n",
       " \"d'informatique\",\n",
       " 'de',\n",
       " \"l'université\",\n",
       " 'de',\n",
       " 'Pennsylvanie.']"
      ]
     },
     "execution_count": 4,
     "metadata": {},
     "output_type": "execute_result"
    }
   ],
   "source": [
    "# Fractionnement en espace avec pour type une liste\n",
    "text1.split(' ')"
   ]
  },
  {
   "cell_type": "code",
   "execution_count": 5,
   "metadata": {},
   "outputs": [
    {
     "data": {
      "text/plain": [
       "30"
      ]
     },
     "execution_count": 5,
     "metadata": {},
     "output_type": "execute_result"
    }
   ],
   "source": [
    "# Nombre de composants \n",
    "len(text1.split(' '))"
   ]
  },
  {
   "cell_type": "code",
   "execution_count": 6,
   "metadata": {},
   "outputs": [
    {
     "data": {
      "text/plain": [
       "['Natural',\n",
       " 'Language',\n",
       " 'Toolkit',\n",
       " '(',\n",
       " 'NLTK',\n",
       " ')',\n",
       " 'est',\n",
       " 'une',\n",
       " 'bibliothèque',\n",
       " 'logicielle',\n",
       " 'en',\n",
       " 'Python',\n",
       " 'permettant',\n",
       " 'un',\n",
       " 'traitement',\n",
       " 'automatique',\n",
       " 'des',\n",
       " 'langues',\n",
       " ',',\n",
       " 'développée',\n",
       " 'par',\n",
       " 'Steven',\n",
       " 'Bird',\n",
       " 'et',\n",
       " 'Edward',\n",
       " 'Loper',\n",
       " 'du',\n",
       " 'département',\n",
       " \"d'informatique\",\n",
       " 'de',\n",
       " \"l'université\",\n",
       " 'de',\n",
       " 'Pennsylvanie',\n",
       " '.']"
      ]
     },
     "execution_count": 6,
     "metadata": {},
     "output_type": "execute_result"
    }
   ],
   "source": [
    "# Fractionnement cette fois-ci avec la fonction word_tokenize()\n",
    "nltk.word_tokenize(text1)"
   ]
  },
  {
   "cell_type": "code",
   "execution_count": 7,
   "metadata": {},
   "outputs": [
    {
     "data": {
      "text/plain": [
       "34"
      ]
     },
     "execution_count": 7,
     "metadata": {},
     "output_type": "execute_result"
    }
   ],
   "source": [
    "# Nombre de composants\n",
    "len(nltk.word_tokenize(text1))"
   ]
  },
  {
   "cell_type": "code",
   "execution_count": 8,
   "metadata": {},
   "outputs": [],
   "source": [
    "text2 = \"Python est un langage open source. Python est un programme de langage informatique. Python est gratuit\""
   ]
  },
  {
   "cell_type": "code",
   "execution_count": 9,
   "metadata": {},
   "outputs": [
    {
     "data": {
      "text/plain": [
       "'Python est un langage open source. Python est un programme de langage informatique. Python est gratuit'"
      ]
     },
     "execution_count": 9,
     "metadata": {},
     "output_type": "execute_result"
    }
   ],
   "source": [
    "text2"
   ]
  },
  {
   "cell_type": "code",
   "execution_count": 10,
   "metadata": {},
   "outputs": [
    {
     "data": {
      "text/plain": [
       "['Python est un langage open source.',\n",
       " 'Python est un programme de langage informatique.',\n",
       " 'Python est gratuit']"
      ]
     },
     "execution_count": 10,
     "metadata": {},
     "output_type": "execute_result"
    }
   ],
   "source": [
    "# Séparation par phrase\n",
    "nltk.sent_tokenize(text2)"
   ]
  },
  {
   "cell_type": "code",
   "execution_count": 11,
   "metadata": {},
   "outputs": [
    {
     "data": {
      "text/plain": [
       "3"
      ]
     },
     "execution_count": 11,
     "metadata": {},
     "output_type": "execute_result"
    }
   ],
   "source": [
    "# Nombre de composants\n",
    "len(nltk.sent_tokenize(text2))"
   ]
  },
  {
   "cell_type": "code",
   "execution_count": 12,
   "metadata": {},
   "outputs": [],
   "source": [
    "text3 = \"Python est un langage open source. Python est un programme de langage informatique. Python est gratuit en U.E.\""
   ]
  },
  {
   "cell_type": "code",
   "execution_count": 13,
   "metadata": {},
   "outputs": [
    {
     "data": {
      "text/plain": [
       "'Python est un langage open source. Python est un programme de langage informatique. Python est gratuit en U.E.'"
      ]
     },
     "execution_count": 13,
     "metadata": {},
     "output_type": "execute_result"
    }
   ],
   "source": [
    "text3"
   ]
  },
  {
   "cell_type": "code",
   "execution_count": 14,
   "metadata": {},
   "outputs": [
    {
     "data": {
      "text/plain": [
       "['Python est un langage open source.',\n",
       " 'Python est un programme de langage informatique.',\n",
       " 'Python est gratuit en U.E.']"
      ]
     },
     "execution_count": 14,
     "metadata": {},
     "output_type": "execute_result"
    }
   ],
   "source": [
    "# Séparation par phrase : pas de problème avec \"U.E.\" 🫢\n",
    "nltk.sent_tokenize(text3)"
   ]
  }
 ],
 "metadata": {
  "kernelspec": {
   "display_name": ".venv",
   "language": "python",
   "name": "python3"
  },
  "language_info": {
   "codemirror_mode": {
    "name": "ipython",
    "version": 3
   },
   "file_extension": ".py",
   "mimetype": "text/x-python",
   "name": "python",
   "nbconvert_exporter": "python",
   "pygments_lexer": "ipython3",
   "version": "3.9.2"
  },
  "orig_nbformat": 4
 },
 "nbformat": 4,
 "nbformat_minor": 2
}
