{
 "cells": [
  {
   "cell_type": "markdown",
   "metadata": {},
   "source": [
    "### Cours : NLTK Tutorial 06: Parts of Speech (POS) Tagging | POS Tagging\n",
    "Lien : https://www.youtube.com/watch?v=5H9r1u2Zoos&list=PLBSCvBlTOLa_wS8iy84DfyizdSs7ps7L5&index=9\n",
    "\n",
    "Date 22-07-23"
   ]
  },
  {
   "cell_type": "code",
   "execution_count": null,
   "metadata": {},
   "outputs": [],
   "source": []
  }
 ],
 "metadata": {
  "language_info": {
   "name": "python"
  },
  "orig_nbformat": 4
 },
 "nbformat": 4,
 "nbformat_minor": 2
}
