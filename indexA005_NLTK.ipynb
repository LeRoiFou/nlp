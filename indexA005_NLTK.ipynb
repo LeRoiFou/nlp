{
 "cells": [
  {
   "cell_type": "markdown",
   "metadata": {},
   "source": [
    "### Cours : NLTK Tutorial 04: Regular Expressions\n",
    "Lien : https://www.youtube.com/watch?v=Lw4MpTUxta4&list=PLBSCvBlTOLa_wS8iy84DfyizdSs7ps7L5&index=5\n",
    "\n",
    "Dans ce tuto, on n'a recours cette fois-ci uniquement à la libraire 're' pour les expressions régulières avec les instructions suivantes :\n",
    "- re.search() : rechercher les caractères...\n",
    "- re.findall() : récupérer tel caractère ou ne pas récupérer tel caractère\n",
    "\n",
    "Date : 22-07-23"
   ]
  },
  {
   "cell_type": "code",
   "execution_count": 24,
   "metadata": {},
   "outputs": [],
   "source": [
    "import re # expressions régulières"
   ]
  },
  {
   "cell_type": "code",
   "execution_count": 25,
   "metadata": {},
   "outputs": [],
   "source": [
    "text1 = \"Les objectifs premiers de l'organisation des nations unis sont le maintien de la paix et la sécurité internationale. #UNSG @ NY Society for Ethical Culture https://bit.ly/2guVerl @UN @UN_Women\""
   ]
  },
  {
   "cell_type": "code",
   "execution_count": 26,
   "metadata": {},
   "outputs": [
    {
     "data": {
      "text/plain": [
       "\"Les objectifs premiers de l'organisation des nations unis sont le maintien de la paix et la sécurité internationale. #UNSG @ NY Society for Ethical Culture https://bit.ly/2guVerl @UN @UN_Women\""
      ]
     },
     "execution_count": 26,
     "metadata": {},
     "output_type": "execute_result"
    }
   ],
   "source": [
    "text1"
   ]
  },
  {
   "cell_type": "code",
   "execution_count": 27,
   "metadata": {},
   "outputs": [],
   "source": [
    "# Fractionnement du texte par les espaces en une liste\n",
    "text2 = text1.split(' ')"
   ]
  },
  {
   "cell_type": "code",
   "execution_count": 28,
   "metadata": {},
   "outputs": [
    {
     "data": {
      "text/plain": [
       "['Les',\n",
       " 'objectifs',\n",
       " 'premiers',\n",
       " 'de',\n",
       " \"l'organisation\",\n",
       " 'des',\n",
       " 'nations',\n",
       " 'unis',\n",
       " 'sont',\n",
       " 'le',\n",
       " 'maintien',\n",
       " 'de',\n",
       " 'la',\n",
       " 'paix',\n",
       " 'et',\n",
       " 'la',\n",
       " 'sécurité',\n",
       " 'internationale.',\n",
       " '#UNSG',\n",
       " '@',\n",
       " 'NY',\n",
       " 'Society',\n",
       " 'for',\n",
       " 'Ethical',\n",
       " 'Culture',\n",
       " 'https://bit.ly/2guVerl',\n",
       " '@UN',\n",
       " '@UN_Women']"
      ]
     },
     "execution_count": 28,
     "metadata": {},
     "output_type": "execute_result"
    }
   ],
   "source": [
    "text2"
   ]
  },
  {
   "cell_type": "code",
   "execution_count": 29,
   "metadata": {},
   "outputs": [
    {
     "data": {
      "text/plain": [
       "28"
      ]
     },
     "execution_count": 29,
     "metadata": {},
     "output_type": "execute_result"
    }
   ],
   "source": [
    "# Nombre de composants\n",
    "len(text2)"
   ]
  },
  {
   "cell_type": "code",
   "execution_count": 30,
   "metadata": {},
   "outputs": [
    {
     "data": {
      "text/plain": [
       "['#UNSG']"
      ]
     },
     "execution_count": 30,
     "metadata": {},
     "output_type": "execute_result"
    }
   ],
   "source": [
    "# Compréhension de liste : composant commençant par '#'\n",
    "[t for t in text2 if t.startswith('#')]"
   ]
  },
  {
   "cell_type": "code",
   "execution_count": 31,
   "metadata": {},
   "outputs": [
    {
     "data": {
      "text/plain": [
       "['@', '@UN', '@UN_Women']"
      ]
     },
     "execution_count": 31,
     "metadata": {},
     "output_type": "execute_result"
    }
   ],
   "source": [
    "# Compréhension de liste : composant commençant par'@'\n",
    "[t for t in text2 if t.startswith('@')]"
   ]
  },
  {
   "cell_type": "code",
   "execution_count": 32,
   "metadata": {},
   "outputs": [
    {
     "data": {
      "text/plain": [
       "['@UN', '@UN_Women']"
      ]
     },
     "execution_count": 32,
     "metadata": {},
     "output_type": "execute_result"
    }
   ],
   "source": [
    "# Comprehension de liste avec REGEX : composant commençant par...\n",
    "[t for t in text2 if re.search('@[A-Za-z0-9_]+', t)]"
   ]
  },
  {
   "cell_type": "code",
   "execution_count": 33,
   "metadata": {},
   "outputs": [
    {
     "data": {
      "text/plain": [
       "['@UN', '@UN_Women']"
      ]
     },
     "execution_count": 33,
     "metadata": {},
     "output_type": "execute_result"
    }
   ],
   "source": [
    "# Comprehension de liste avec REGEX avec le même résultat\n",
    "[t for t in text2 if re.search('@\\w+', t)]"
   ]
  },
  {
   "cell_type": "code",
   "execution_count": 34,
   "metadata": {},
   "outputs": [
    {
     "data": {
      "text/plain": [
       "['e',\n",
       " 'o',\n",
       " 'e',\n",
       " 'i',\n",
       " 'e',\n",
       " 'i',\n",
       " 'e',\n",
       " 'e',\n",
       " 'o',\n",
       " 'a',\n",
       " 'i',\n",
       " 'a',\n",
       " 'i',\n",
       " 'o',\n",
       " 'e',\n",
       " 'a',\n",
       " 'i',\n",
       " 'o',\n",
       " 'u',\n",
       " 'i',\n",
       " 'o',\n",
       " 'e',\n",
       " 'a',\n",
       " 'i',\n",
       " 'i',\n",
       " 'e',\n",
       " 'e',\n",
       " 'a',\n",
       " 'a',\n",
       " 'i',\n",
       " 'e',\n",
       " 'a',\n",
       " 'u',\n",
       " 'i',\n",
       " 'i',\n",
       " 'e',\n",
       " 'a',\n",
       " 'i',\n",
       " 'o',\n",
       " 'a',\n",
       " 'e',\n",
       " 'o',\n",
       " 'i',\n",
       " 'e',\n",
       " 'o',\n",
       " 'i',\n",
       " 'a',\n",
       " 'u',\n",
       " 'u',\n",
       " 'e',\n",
       " 'i',\n",
       " 'u',\n",
       " 'e',\n",
       " 'o',\n",
       " 'e']"
      ]
     },
     "execution_count": 34,
     "metadata": {},
     "output_type": "execute_result"
    }
   ],
   "source": [
    "# REGEX : rechercher les voyelles dans le texte\n",
    "re.findall(r'[aeiou]', text1)"
   ]
  },
  {
   "cell_type": "code",
   "execution_count": 35,
   "metadata": {},
   "outputs": [
    {
     "data": {
      "text/plain": [
       "['L',\n",
       " 's',\n",
       " ' ',\n",
       " 'b',\n",
       " 'j',\n",
       " 'c',\n",
       " 't',\n",
       " 'f',\n",
       " 's',\n",
       " ' ',\n",
       " 'p',\n",
       " 'r',\n",
       " 'm',\n",
       " 'r',\n",
       " 's',\n",
       " ' ',\n",
       " 'd',\n",
       " ' ',\n",
       " 'l',\n",
       " \"'\",\n",
       " 'r',\n",
       " 'g',\n",
       " 'n',\n",
       " 's',\n",
       " 't',\n",
       " 'n',\n",
       " ' ',\n",
       " 'd',\n",
       " 's',\n",
       " ' ',\n",
       " 'n',\n",
       " 't',\n",
       " 'n',\n",
       " 's',\n",
       " ' ',\n",
       " 'n',\n",
       " 's',\n",
       " ' ',\n",
       " 's',\n",
       " 'n',\n",
       " 't',\n",
       " ' ',\n",
       " 'l',\n",
       " ' ',\n",
       " 'm',\n",
       " 'n',\n",
       " 't',\n",
       " 'n',\n",
       " ' ',\n",
       " 'd',\n",
       " ' ',\n",
       " 'l',\n",
       " ' ',\n",
       " 'p',\n",
       " 'x',\n",
       " ' ',\n",
       " 't',\n",
       " ' ',\n",
       " 'l',\n",
       " ' ',\n",
       " 's',\n",
       " 'é',\n",
       " 'c',\n",
       " 'r',\n",
       " 't',\n",
       " 'é',\n",
       " ' ',\n",
       " 'n',\n",
       " 't',\n",
       " 'r',\n",
       " 'n',\n",
       " 't',\n",
       " 'n',\n",
       " 'l',\n",
       " '.',\n",
       " ' ',\n",
       " '#',\n",
       " 'U',\n",
       " 'N',\n",
       " 'S',\n",
       " 'G',\n",
       " ' ',\n",
       " '@',\n",
       " ' ',\n",
       " 'N',\n",
       " 'Y',\n",
       " ' ',\n",
       " 'S',\n",
       " 'c',\n",
       " 't',\n",
       " 'y',\n",
       " ' ',\n",
       " 'f',\n",
       " 'r',\n",
       " ' ',\n",
       " 'E',\n",
       " 't',\n",
       " 'h',\n",
       " 'c',\n",
       " 'l',\n",
       " ' ',\n",
       " 'C',\n",
       " 'l',\n",
       " 't',\n",
       " 'r',\n",
       " ' ',\n",
       " 'h',\n",
       " 't',\n",
       " 't',\n",
       " 'p',\n",
       " 's',\n",
       " ':',\n",
       " '/',\n",
       " '/',\n",
       " 'b',\n",
       " 't',\n",
       " '.',\n",
       " 'l',\n",
       " 'y',\n",
       " '/',\n",
       " '2',\n",
       " 'g',\n",
       " 'V',\n",
       " 'r',\n",
       " 'l',\n",
       " ' ',\n",
       " '@',\n",
       " 'U',\n",
       " 'N',\n",
       " ' ',\n",
       " '@',\n",
       " 'U',\n",
       " 'N',\n",
       " '_',\n",
       " 'W',\n",
       " 'm',\n",
       " 'n']"
      ]
     },
     "execution_count": 35,
     "metadata": {},
     "output_type": "execute_result"
    }
   ],
   "source": [
    "# # REGEX : rechercher les consonnes dans le texte\n",
    "re.findall(r'[^aeiou]', text1)"
   ]
  }
 ],
 "metadata": {
  "kernelspec": {
   "display_name": ".venv",
   "language": "python",
   "name": "python3"
  },
  "language_info": {
   "codemirror_mode": {
    "name": "ipython",
    "version": 3
   },
   "file_extension": ".py",
   "mimetype": "text/x-python",
   "name": "python",
   "nbconvert_exporter": "python",
   "pygments_lexer": "ipython3",
   "version": "3.9.2"
  },
  "orig_nbformat": 4
 },
 "nbformat": 4,
 "nbformat_minor": 2
}
