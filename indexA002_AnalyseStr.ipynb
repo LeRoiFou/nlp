{
 "cells": [
  {
   "cell_type": "markdown",
   "metadata": {},
   "source": [
    "### Cours : NLTK Tutorial 01: Text Analysis\n",
    "Lien : https://www.youtube.com/watch?v=KyHlhbVk95U&list=PLBSCvBlTOLa_wS8iy84DfyizdSs7ps7L5&index=2\n",
    "\n",
    "Analyse d'un texte... bof... 🫤\n",
    "\n",
    "Date : 22-07-2023"
   ]
  },
  {
   "cell_type": "code",
   "execution_count": 1,
   "metadata": {},
   "outputs": [],
   "source": [
    "import nltk"
   ]
  },
  {
   "cell_type": "code",
   "execution_count": 2,
   "metadata": {},
   "outputs": [],
   "source": [
    "text1 = \"Wikipédia est une encyclopédie collaborative, généraliste et multilingue créée par Jimmy Wales et Larry Sanger le 15 janvier 2001. Il s'agit d'une œuvre libre, c'est-à-dire que chacun est libre de la rediffuser.\""
   ]
  },
  {
   "cell_type": "code",
   "execution_count": 7,
   "metadata": {},
   "outputs": [
    {
     "data": {
      "text/plain": [
       "\"Wikipédia est une encyclopédie collaborative, généraliste et multilingue créée par Jimmy Wales et Larry Sanger le 15 janvier 2001. Il s'agit d'une œuvre libre, c'est-à-dire que chacun est libre de la rediffuser.\""
      ]
     },
     "execution_count": 7,
     "metadata": {},
     "output_type": "execute_result"
    }
   ],
   "source": [
    "text1"
   ]
  },
  {
   "cell_type": "code",
   "execution_count": 4,
   "metadata": {},
   "outputs": [
    {
     "data": {
      "text/plain": [
       "211"
      ]
     },
     "execution_count": 4,
     "metadata": {},
     "output_type": "execute_result"
    }
   ],
   "source": [
    "# Nombre de caractères\n",
    "len(text1)"
   ]
  },
  {
   "cell_type": "code",
   "execution_count": 5,
   "metadata": {},
   "outputs": [],
   "source": [
    "# Fractionnement par espace\n",
    "text2 = text1.split(' ')"
   ]
  },
  {
   "cell_type": "code",
   "execution_count": 6,
   "metadata": {},
   "outputs": [
    {
     "data": {
      "text/plain": [
       "['Wikipédia',\n",
       " 'est',\n",
       " 'une',\n",
       " 'encyclopédie',\n",
       " 'collaborative,',\n",
       " 'généraliste',\n",
       " 'et',\n",
       " 'multilingue',\n",
       " 'créée',\n",
       " 'par',\n",
       " 'Jimmy',\n",
       " 'Wales',\n",
       " 'et',\n",
       " 'Larry',\n",
       " 'Sanger',\n",
       " 'le',\n",
       " '15',\n",
       " 'janvier',\n",
       " '2001.',\n",
       " 'Il',\n",
       " \"s'agit\",\n",
       " \"d'une\",\n",
       " 'œuvre',\n",
       " 'libre,',\n",
       " \"c'est-à-dire\",\n",
       " 'que',\n",
       " 'chacun',\n",
       " 'est',\n",
       " 'libre',\n",
       " 'de',\n",
       " 'la',\n",
       " 'rediffuser.']"
      ]
     },
     "execution_count": 6,
     "metadata": {},
     "output_type": "execute_result"
    }
   ],
   "source": [
    "text2"
   ]
  },
  {
   "cell_type": "code",
   "execution_count": 9,
   "metadata": {},
   "outputs": [
    {
     "data": {
      "text/plain": [
       "32"
      ]
     },
     "execution_count": 9,
     "metadata": {},
     "output_type": "execute_result"
    }
   ],
   "source": [
    "# Nombre de composants\n",
    "len(text2)"
   ]
  },
  {
   "cell_type": "code",
   "execution_count": 10,
   "metadata": {},
   "outputs": [
    {
     "data": {
      "text/plain": [
       "['Wikipédia',\n",
       " 'encyclopédie',\n",
       " 'collaborative,',\n",
       " 'généraliste',\n",
       " 'multilingue',\n",
       " 'créée',\n",
       " 'Jimmy',\n",
       " 'Wales',\n",
       " 'Larry',\n",
       " 'Sanger',\n",
       " 'janvier',\n",
       " '2001.',\n",
       " \"s'agit\",\n",
       " \"d'une\",\n",
       " 'œuvre',\n",
       " 'libre,',\n",
       " \"c'est-à-dire\",\n",
       " 'chacun',\n",
       " 'libre',\n",
       " 'rediffuser.']"
      ]
     },
     "execution_count": 10,
     "metadata": {},
     "output_type": "execute_result"
    }
   ],
   "source": [
    "# Compréhension de liste : mots avec + de 4 caractères\n",
    "[w for w in text2 if len(w) > 4]"
   ]
  },
  {
   "cell_type": "code",
   "execution_count": 11,
   "metadata": {},
   "outputs": [
    {
     "data": {
      "text/plain": [
       "['est', 'une', 'et', 'par', 'et', 'le', '15', 'Il', 'que', 'est', 'de', 'la']"
      ]
     },
     "execution_count": 11,
     "metadata": {},
     "output_type": "execute_result"
    }
   ],
   "source": [
    "# Compréhension de liste : mots avec - de 4 caractères\n",
    "[w for w in text2 if len(w) < 4]"
   ]
  },
  {
   "cell_type": "code",
   "execution_count": 13,
   "metadata": {},
   "outputs": [
    {
     "data": {
      "text/plain": [
       "['Wikipédia', 'Jimmy', 'Wales', 'Larry', 'Sanger', 'Il']"
      ]
     },
     "execution_count": 13,
     "metadata": {},
     "output_type": "execute_result"
    }
   ],
   "source": [
    "# Compréhension de liste : mots commençant avec une lettre majuscule\n",
    "[w for w in text2 if w.istitle()]"
   ]
  },
  {
   "cell_type": "code",
   "execution_count": 14,
   "metadata": {},
   "outputs": [
    {
     "data": {
      "text/plain": [
       "['Wikipédia', 'la']"
      ]
     },
     "execution_count": 14,
     "metadata": {},
     "output_type": "execute_result"
    }
   ],
   "source": [
    "# Compréhension de liste : mots se terminant avec la lettre 'a'\n",
    "[w for w in text2 if w.endswith(\"a\")]"
   ]
  },
  {
   "cell_type": "code",
   "execution_count": 15,
   "metadata": {},
   "outputs": [],
   "source": [
    "text3 = \"Qu'est ce que c'est que ça\""
   ]
  },
  {
   "cell_type": "code",
   "execution_count": 16,
   "metadata": {},
   "outputs": [
    {
     "data": {
      "text/plain": [
       "\"Qu'est ce que c'est que ça\""
      ]
     },
     "execution_count": 16,
     "metadata": {},
     "output_type": "execute_result"
    }
   ],
   "source": [
    "text3"
   ]
  },
  {
   "cell_type": "code",
   "execution_count": 17,
   "metadata": {},
   "outputs": [],
   "source": [
    "# Fractionnement par des espaces\n",
    "text4 = text3.split(\" \")"
   ]
  },
  {
   "cell_type": "code",
   "execution_count": 18,
   "metadata": {},
   "outputs": [
    {
     "data": {
      "text/plain": [
       "[\"Qu'est\", 'ce', 'que', \"c'est\", 'que', 'ça']"
      ]
     },
     "execution_count": 18,
     "metadata": {},
     "output_type": "execute_result"
    }
   ],
   "source": [
    "text4"
   ]
  },
  {
   "cell_type": "code",
   "execution_count": 19,
   "metadata": {},
   "outputs": [
    {
     "data": {
      "text/plain": [
       "{\"Qu'est\", \"c'est\", 'ce', 'que', 'ça'}"
      ]
     },
     "execution_count": 19,
     "metadata": {},
     "output_type": "execute_result"
    }
   ],
   "source": [
    "# Conversion en ensemble : suppression des doublons\n",
    "set(text4)"
   ]
  },
  {
   "cell_type": "code",
   "execution_count": 20,
   "metadata": {},
   "outputs": [
    {
     "data": {
      "text/plain": [
       "[\"qu'est\", 'ce', 'que', \"c'est\", 'que', 'ça']"
      ]
     },
     "execution_count": 20,
     "metadata": {},
     "output_type": "execute_result"
    }
   ],
   "source": [
    "# Compréhension de liste : mise en minuscule des lettres\n",
    "[w.lower() for w in text4]"
   ]
  },
  {
   "cell_type": "code",
   "execution_count": 21,
   "metadata": {},
   "outputs": [
    {
     "data": {
      "text/plain": [
       "['wikipédia',\n",
       " 'est',\n",
       " 'une',\n",
       " 'encyclopédie',\n",
       " 'collaborative,',\n",
       " 'généraliste',\n",
       " 'et',\n",
       " 'multilingue',\n",
       " 'créée',\n",
       " 'par',\n",
       " 'jimmy',\n",
       " 'wales',\n",
       " 'et',\n",
       " 'larry',\n",
       " 'sanger',\n",
       " 'le',\n",
       " '15',\n",
       " 'janvier',\n",
       " '2001.',\n",
       " 'il',\n",
       " \"s'agit\",\n",
       " \"d'une\",\n",
       " 'œuvre',\n",
       " 'libre,',\n",
       " \"c'est-à-dire\",\n",
       " 'que',\n",
       " 'chacun',\n",
       " 'est',\n",
       " 'libre',\n",
       " 'de',\n",
       " 'la',\n",
       " 'rediffuser.']"
      ]
     },
     "execution_count": 21,
     "metadata": {},
     "output_type": "execute_result"
    }
   ],
   "source": [
    "# Compréhension de liste : mise en minuscule des lettres\n",
    "[w.lower() for w in text2]"
   ]
  },
  {
   "cell_type": "code",
   "execution_count": 22,
   "metadata": {},
   "outputs": [
    {
     "data": {
      "text/plain": [
       "['WIKIPÉDIA',\n",
       " 'EST',\n",
       " 'UNE',\n",
       " 'ENCYCLOPÉDIE',\n",
       " 'COLLABORATIVE,',\n",
       " 'GÉNÉRALISTE',\n",
       " 'ET',\n",
       " 'MULTILINGUE',\n",
       " 'CRÉÉE',\n",
       " 'PAR',\n",
       " 'JIMMY',\n",
       " 'WALES',\n",
       " 'ET',\n",
       " 'LARRY',\n",
       " 'SANGER',\n",
       " 'LE',\n",
       " '15',\n",
       " 'JANVIER',\n",
       " '2001.',\n",
       " 'IL',\n",
       " \"S'AGIT\",\n",
       " \"D'UNE\",\n",
       " 'ŒUVRE',\n",
       " 'LIBRE,',\n",
       " \"C'EST-À-DIRE\",\n",
       " 'QUE',\n",
       " 'CHACUN',\n",
       " 'EST',\n",
       " 'LIBRE',\n",
       " 'DE',\n",
       " 'LA',\n",
       " 'REDIFFUSER.']"
      ]
     },
     "execution_count": 22,
     "metadata": {},
     "output_type": "execute_result"
    }
   ],
   "source": [
    "# Compréhension de liste : mise en majuscule des lettres\n",
    "[w.upper() for w in text2]"
   ]
  }
 ],
 "metadata": {
  "kernelspec": {
   "display_name": ".venv",
   "language": "python",
   "name": "python3"
  },
  "language_info": {
   "codemirror_mode": {
    "name": "ipython",
    "version": 3
   },
   "file_extension": ".py",
   "mimetype": "text/x-python",
   "name": "python",
   "nbconvert_exporter": "python",
   "pygments_lexer": "ipython3",
   "version": "3.9.2"
  },
  "orig_nbformat": 4
 },
 "nbformat": 4,
 "nbformat_minor": 2
}
