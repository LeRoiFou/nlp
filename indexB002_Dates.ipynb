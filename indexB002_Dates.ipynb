{
 "cells": [
  {
   "cell_type": "markdown",
   "metadata": {},
   "source": [
    "### NLTK Tutorial 10: Regular Expressions Date\n",
    "Lien : https://www.youtube.com/watch?v=e8oCVuC-bFQ&list=PLBSCvBlTOLa_wS8iy84DfyizdSs7ps7L5&index=6\n",
    "\n",
    "REGEX avec le format date\n",
    "\n",
    "Date : 22-07-23"
   ]
  },
  {
   "cell_type": "code",
   "execution_count": 1,
   "metadata": {},
   "outputs": [],
   "source": [
    "import re"
   ]
  },
  {
   "cell_type": "code",
   "execution_count": 2,
   "metadata": {},
   "outputs": [],
   "source": [
    "d = '11-07-2020\\jk11/07/2020/fhfhs11-07-20'"
   ]
  },
  {
   "cell_type": "code",
   "execution_count": 3,
   "metadata": {},
   "outputs": [
    {
     "data": {
      "text/plain": [
       "'11-07-2020\\\\jk11/07/2020/fhfhs11-07-20'"
      ]
     },
     "execution_count": 3,
     "metadata": {},
     "output_type": "execute_result"
    }
   ],
   "source": [
    "d"
   ]
  },
  {
   "cell_type": "code",
   "execution_count": 5,
   "metadata": {},
   "outputs": [
    {
     "data": {
      "text/plain": [
       "['11-07-2020', '11/07/2020']"
      ]
     },
     "execution_count": 5,
     "metadata": {},
     "output_type": "execute_result"
    }
   ],
   "source": [
    "# REGEX : récupération de certaines dates\n",
    "re.findall(r'\\d{2}[/-]\\d{2}[/-]\\d{4}', d)"
   ]
  },
  {
   "cell_type": "code",
   "execution_count": 6,
   "metadata": {},
   "outputs": [
    {
     "data": {
      "text/plain": [
       "['11-07-20', '11/07/20', '11-07-20']"
      ]
     },
     "execution_count": 6,
     "metadata": {},
     "output_type": "execute_result"
    }
   ],
   "source": [
    "# REGEX : récupération de toutes les dates mais avec en année AA\n",
    "re.findall(r'\\d{2}[/-]\\d{2}[/-]\\d{2}', d)"
   ]
  },
  {
   "cell_type": "code",
   "execution_count": 7,
   "metadata": {},
   "outputs": [
    {
     "data": {
      "text/plain": [
       "['11-07-2020', '11/07/2020', '11-07-20']"
      ]
     },
     "execution_count": 7,
     "metadata": {},
     "output_type": "execute_result"
    }
   ],
   "source": [
    "# REGEX : récupération de toutes les dates avec le format identique \n",
    "# à l'objet 'd'\n",
    "re.findall(r'\\d{2}[/-]\\d{2}[/-]\\d{2,4}', d)"
   ]
  },
  {
   "cell_type": "code",
   "execution_count": 8,
   "metadata": {},
   "outputs": [],
   "source": [
    "# Nouveau format de date : le jour n'est plus au format '01' mais \n",
    "# au format '1'\n",
    "d = '1-07-2020\\jk1/07/2020/fhfhs1-07-20'"
   ]
  },
  {
   "cell_type": "code",
   "execution_count": 9,
   "metadata": {},
   "outputs": [
    {
     "data": {
      "text/plain": [
       "'1-07-2020\\\\jk1/07/2020/fhfhs1-07-20'"
      ]
     },
     "execution_count": 9,
     "metadata": {},
     "output_type": "execute_result"
    }
   ],
   "source": [
    "d"
   ]
  },
  {
   "cell_type": "code",
   "execution_count": 12,
   "metadata": {},
   "outputs": [
    {
     "data": {
      "text/plain": [
       "['1-07-2020', '1/07/2020', '1-07-20']"
      ]
     },
     "execution_count": 12,
     "metadata": {},
     "output_type": "execute_result"
    }
   ],
   "source": [
    "# REGEX : récupération de toutes les dates\n",
    "re.findall(r'\\d{1}[/-]\\d{2}[/-]\\d{2,4}', d)"
   ]
  },
  {
   "cell_type": "code",
   "execution_count": 23,
   "metadata": {},
   "outputs": [],
   "source": [
    "# Nouveau format de date : d m\n",
    "d = '1-7-2020\\jk1/7/2020/fhfhs1-7-20'"
   ]
  },
  {
   "cell_type": "code",
   "execution_count": 24,
   "metadata": {},
   "outputs": [
    {
     "data": {
      "text/plain": [
       "'1-7-2020\\\\jk1/7/2020/fhfhs1-7-20'"
      ]
     },
     "execution_count": 24,
     "metadata": {},
     "output_type": "execute_result"
    }
   ],
   "source": [
    "d"
   ]
  },
  {
   "cell_type": "code",
   "execution_count": 25,
   "metadata": {},
   "outputs": [
    {
     "data": {
      "text/plain": [
       "['1-7-2020', '1/7/2020', '1-7-20']"
      ]
     },
     "execution_count": 25,
     "metadata": {},
     "output_type": "execute_result"
    }
   ],
   "source": [
    "# REGEX : récupération de toutes les dates\n",
    "re.findall(r'\\d{1}[/-]\\d{1}[/-]\\d{2,4}', d)"
   ]
  }
 ],
 "metadata": {
  "kernelspec": {
   "display_name": ".venv",
   "language": "python",
   "name": "python3"
  },
  "language_info": {
   "codemirror_mode": {
    "name": "ipython",
    "version": 3
   },
   "file_extension": ".py",
   "mimetype": "text/x-python",
   "name": "python",
   "nbconvert_exporter": "python",
   "pygments_lexer": "ipython3",
   "version": "3.9.2"
  },
  "orig_nbformat": 4
 },
 "nbformat": 4,
 "nbformat_minor": 2
}
